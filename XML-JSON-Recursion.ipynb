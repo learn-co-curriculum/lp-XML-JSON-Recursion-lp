{
 "cells": [
  {
   "cell_type": "markdown",
   "metadata": {},
   "source": [
    "## Some XML Things"
   ]
  },
  {
   "cell_type": "code",
   "execution_count": 10,
   "metadata": {},
   "outputs": [],
   "source": [
    "import xml.etree.ElementTree as ET\n",
    "import pandas as pd"
   ]
  },
  {
   "cell_type": "code",
   "execution_count": 5,
   "metadata": {},
   "outputs": [
    {
     "name": "stdout",
     "output_type": "stream",
     "text": [
      "<Element 'response' at 0x1072dfb38>\n"
     ]
    }
   ],
   "source": [
    "tree = ET.parse('nchs.xml')\n",
    "root = tree.getroot()\n",
    "print(root)"
   ]
  },
  {
   "cell_type": "code",
   "execution_count": 6,
   "metadata": {},
   "outputs": [
    {
     "name": "stdout",
     "output_type": "stream",
     "text": [
      "row {}\n"
     ]
    }
   ],
   "source": [
    "for child in root:\n",
    "    print(child.tag, child.attrib)"
   ]
  },
  {
   "cell_type": "code",
   "execution_count": 7,
   "metadata": {},
   "outputs": [
    {
     "name": "stdout",
     "output_type": "stream",
     "text": [
      "Child:\n",
      "\n",
      "row {}\n",
      "Grandchildren:\n",
      "\n",
      "row {'_id': 'row-8v4v.sspw~9gpw', '_uuid': '00000000-0000-0000-DF16-ABED6684B7B3', '_position': '0', '_address': 'https://data.cdc.gov/resource/bi63-dtpu/row-8v4v.sspw~9gpw'}\n",
      "row {'_id': 'row-62a7~k9va.wwyw', '_uuid': '00000000-0000-0000-F264-BCEB7735BBB3', '_position': '0', '_address': 'https://data.cdc.gov/resource/bi63-dtpu/row-62a7~k9va.wwyw'}\n",
      "row {'_id': 'row-8u2q-8j6a-9g3w', '_uuid': '00000000-0000-0000-69D6-672A77317666', '_position': '0', '_address': 'https://data.cdc.gov/resource/bi63-dtpu/row-8u2q-8j6a-9g3w'}\n",
      "row {'_id': 'row-2nd8~f8zx_jpq2', '_uuid': '00000000-0000-0000-3C5C-6524299785AF', '_position': '0', '_address': 'https://data.cdc.gov/resource/bi63-dtpu/row-2nd8~f8zx_jpq2'}\n",
      "row {'_id': 'row-yv27~hz42-w56a', '_uuid': '00000000-0000-0000-5B3E-F9DDF029D3C3', '_position': '0', '_address': 'https://data.cdc.gov/resource/bi63-dtpu/row-yv27~hz42-w56a'}\n",
      "row {'_id': 'row-5bkx_f29z_2wrg', '_uuid': '00000000-0000-0000-3875-EC5688E58C7F', '_position': '0', '_address': 'https://data.cdc.gov/resource/bi63-dtpu/row-5bkx_f29z_2wrg'}\n",
      "row {'_id': 'row-gu2k-5iis~7bx7', '_uuid': '00000000-0000-0000-AE3B-12108BB1933E', '_position': '0', '_address': 'https://data.cdc.gov/resource/bi63-dtpu/row-gu2k-5iis~7bx7'}\n",
      "row {'_id': 'row-nrs9_6xmy_p5vc', '_uuid': '00000000-0000-0000-D035-A213CEA9434C', '_position': '0', '_address': 'https://data.cdc.gov/resource/bi63-dtpu/row-nrs9_6xmy_p5vc'}\n",
      "row {'_id': 'row-9c3e_ywps_xej8', '_uuid': '00000000-0000-0000-0B49-AA52E9CFAB13', '_position': '0', '_address': 'https://data.cdc.gov/resource/bi63-dtpu/row-9c3e_ywps_xej8'}\n"
     ]
    }
   ],
   "source": [
    "count = 0\n",
    "for child in root:\n",
    "    print('Child:\\n')\n",
    "    print(child.tag, child.attrib)\n",
    "    print('Grandchildren:\\n')\n",
    "    for grandchild in child:\n",
    "        count += 1\n",
    "        if count < 10:\n",
    "            print(grandchild.tag, grandchild.attrib)"
   ]
  },
  {
   "cell_type": "code",
   "execution_count": 8,
   "metadata": {},
   "outputs": [
    {
     "name": "stdout",
     "output_type": "stream",
     "text": [
      "response None\n",
      "row None\n",
      "row None\n",
      "year 2012\n",
      "_113_cause_name Nephritis, nephrotic syndrome and nephrosis (N00-N07,N17-N19,N25-N27)\n",
      "cause_name Kidney disease\n",
      "state Vermont\n",
      "deaths 21\n",
      "aadr 2.6\n"
     ]
    }
   ],
   "source": [
    "count = 0\n",
    "for element in root.iter():\n",
    "    count += 1\n",
    "    if count < 10:\n",
    "        print(element.tag, element.text)"
   ]
  },
  {
   "cell_type": "code",
   "execution_count": 11,
   "metadata": {},
   "outputs": [
    {
     "name": "stdout",
     "output_type": "stream",
     "text": [
      "10296\n"
     ]
    },
    {
     "data": {
      "text/html": [
       "<div>\n",
       "<style scoped>\n",
       "    .dataframe tbody tr th:only-of-type {\n",
       "        vertical-align: middle;\n",
       "    }\n",
       "\n",
       "    .dataframe tbody tr th {\n",
       "        vertical-align: top;\n",
       "    }\n",
       "\n",
       "    .dataframe thead th {\n",
       "        text-align: right;\n",
       "    }\n",
       "</style>\n",
       "<table border=\"1\" class=\"dataframe\">\n",
       "  <thead>\n",
       "    <tr style=\"text-align: right;\">\n",
       "      <th></th>\n",
       "      <th>_id</th>\n",
       "      <th>_uuid</th>\n",
       "      <th>_position</th>\n",
       "      <th>_address</th>\n",
       "    </tr>\n",
       "  </thead>\n",
       "  <tbody>\n",
       "    <tr>\n",
       "      <th>0</th>\n",
       "      <td>row-8v4v.sspw~9gpw</td>\n",
       "      <td>00000000-0000-0000-DF16-ABED6684B7B3</td>\n",
       "      <td>0</td>\n",
       "      <td>https://data.cdc.gov/resource/bi63-dtpu/row-8v...</td>\n",
       "    </tr>\n",
       "    <tr>\n",
       "      <th>0</th>\n",
       "      <td>row-62a7~k9va.wwyw</td>\n",
       "      <td>00000000-0000-0000-F264-BCEB7735BBB3</td>\n",
       "      <td>0</td>\n",
       "      <td>https://data.cdc.gov/resource/bi63-dtpu/row-62...</td>\n",
       "    </tr>\n",
       "    <tr>\n",
       "      <th>0</th>\n",
       "      <td>row-8u2q-8j6a-9g3w</td>\n",
       "      <td>00000000-0000-0000-69D6-672A77317666</td>\n",
       "      <td>0</td>\n",
       "      <td>https://data.cdc.gov/resource/bi63-dtpu/row-8u...</td>\n",
       "    </tr>\n",
       "    <tr>\n",
       "      <th>0</th>\n",
       "      <td>row-2nd8~f8zx_jpq2</td>\n",
       "      <td>00000000-0000-0000-3C5C-6524299785AF</td>\n",
       "      <td>0</td>\n",
       "      <td>https://data.cdc.gov/resource/bi63-dtpu/row-2n...</td>\n",
       "    </tr>\n",
       "    <tr>\n",
       "      <th>0</th>\n",
       "      <td>row-yv27~hz42-w56a</td>\n",
       "      <td>00000000-0000-0000-5B3E-F9DDF029D3C3</td>\n",
       "      <td>0</td>\n",
       "      <td>https://data.cdc.gov/resource/bi63-dtpu/row-yv...</td>\n",
       "    </tr>\n",
       "  </tbody>\n",
       "</table>\n",
       "</div>"
      ],
      "text/plain": [
       "                  _id                                 _uuid _position  \\\n",
       "0  row-8v4v.sspw~9gpw  00000000-0000-0000-DF16-ABED6684B7B3         0   \n",
       "0  row-62a7~k9va.wwyw  00000000-0000-0000-F264-BCEB7735BBB3         0   \n",
       "0  row-8u2q-8j6a-9g3w  00000000-0000-0000-69D6-672A77317666         0   \n",
       "0  row-2nd8~f8zx_jpq2  00000000-0000-0000-3C5C-6524299785AF         0   \n",
       "0  row-yv27~hz42-w56a  00000000-0000-0000-5B3E-F9DDF029D3C3         0   \n",
       "\n",
       "                                            _address  \n",
       "0  https://data.cdc.gov/resource/bi63-dtpu/row-8v...  \n",
       "0  https://data.cdc.gov/resource/bi63-dtpu/row-62...  \n",
       "0  https://data.cdc.gov/resource/bi63-dtpu/row-8u...  \n",
       "0  https://data.cdc.gov/resource/bi63-dtpu/row-2n...  \n",
       "0  https://data.cdc.gov/resource/bi63-dtpu/row-yv...  "
      ]
     },
     "execution_count": 11,
     "metadata": {},
     "output_type": "execute_result"
    }
   ],
   "source": [
    "dfs = []\n",
    "for n, element in enumerate(root.iter('row')):\n",
    "    if n > 0:\n",
    "        dfs.append(pd.DataFrame.from_dict(element.attrib, orient='index').transpose())\n",
    "df = pd.concat(dfs)\n",
    "print(len(df))\n",
    "df.head()"
   ]
  },
  {
   "cell_type": "markdown",
   "metadata": {},
   "source": [
    "## Time for JSON"
   ]
  },
  {
   "cell_type": "code",
   "execution_count": 4,
   "metadata": {},
   "outputs": [],
   "source": [
    "# import the json library\n",
    "import json"
   ]
  },
  {
   "cell_type": "code",
   "execution_count": 5,
   "metadata": {},
   "outputs": [],
   "source": [
    "# load the json file and assign it to data\n",
    "f = open('google-maps-geocoding-results.json')\n",
    "data = json.load(f)"
   ]
  },
  {
   "cell_type": "markdown",
   "metadata": {
    "slideshow": {
     "slide_type": "slide"
    }
   },
   "source": [
    "### Let's look at the data"
   ]
  },
  {
   "cell_type": "code",
   "execution_count": null,
   "metadata": {
    "slideshow": {
     "slide_type": "fragment"
    }
   },
   "outputs": [],
   "source": [
    "print(data)"
   ]
  },
  {
   "cell_type": "code",
   "execution_count": null,
   "metadata": {
    "slideshow": {
     "slide_type": "fragment"
    }
   },
   "outputs": [],
   "source": [
    "data"
   ]
  },
  {
   "cell_type": "markdown",
   "metadata": {
    "slideshow": {
     "slide_type": "slide"
    }
   },
   "source": [
    "### Hm, that second bit looks familiar...."
   ]
  },
  {
   "cell_type": "code",
   "execution_count": null,
   "metadata": {},
   "outputs": [],
   "source": [
    "type(data)"
   ]
  },
  {
   "cell_type": "code",
   "execution_count": 17,
   "metadata": {},
   "outputs": [
    {
     "data": {
      "text/plain": [
       "dict_keys(['results', 'status'])"
      ]
     },
     "execution_count": 17,
     "metadata": {},
     "output_type": "execute_result"
    }
   ],
   "source": [
    "data.keys()"
   ]
  },
  {
   "cell_type": "code",
   "execution_count": 19,
   "metadata": {},
   "outputs": [
    {
     "data": {
      "text/plain": [
       "[{'address_components': [{'long_name': '708',\n",
       "    'short_name': '708',\n",
       "    'types': ['street_number']},\n",
       "   {'long_name': 'Main street', 'short_name': 'Main St', 'types': ['route']},\n",
       "   {'long_name': 'Central Business District',\n",
       "    'short_name': 'Central Business District',\n",
       "    'types': ['neighborhood', 'political']},\n",
       "   {'long_name': 'Houston',\n",
       "    'short_name': 'Houston',\n",
       "    'types': ['locality', 'political']},\n",
       "   {'long_name': 'Harris County',\n",
       "    'short_name': 'Harris County',\n",
       "    'types': ['administrative_area_level_2', 'political']},\n",
       "   {'long_name': 'Texas',\n",
       "    'short_name': 'TX',\n",
       "    'types': ['administrative_area_level_1', 'political']},\n",
       "   {'long_name': 'United States',\n",
       "    'short_name': 'US',\n",
       "    'types': ['country', 'political']},\n",
       "   {'long_name': '77002', 'short_name': '77002', 'types': ['postal_code']}],\n",
       "  'formatted_address': '708 Main St, Houston, TX 77002, USA',\n",
       "  'geometry': {'location': {'lat': 29.7590859, 'lng': -95.3636325},\n",
       "   'location_type': 'ROOFTOP',\n",
       "   'viewport': {'northeast': {'lat': 29.7604348802915,\n",
       "     'lng': -95.3622835197085},\n",
       "    'southwest': {'lat': 29.7577369197085, 'lng': -95.3649814802915}}},\n",
       "  'place_id': 'ChIJ33MU3Dq_QIYRLea64akdlgQ',\n",
       "  'plus_code': {'compound_code': 'QJ5P+JG Downtown Houston, Houston, TX, United States',\n",
       "   'global_code': '76X6QJ5P+JG'},\n",
       "  'types': ['street_address']}]"
      ]
     },
     "execution_count": 19,
     "metadata": {},
     "output_type": "execute_result"
    }
   ],
   "source": [
    "data['results']"
   ]
  },
  {
   "cell_type": "code",
   "execution_count": 20,
   "metadata": {},
   "outputs": [
    {
     "data": {
      "text/plain": [
       "dict_keys(['address_components', 'formatted_address', 'geometry', 'place_id', 'plus_code', 'types'])"
      ]
     },
     "execution_count": 20,
     "metadata": {},
     "output_type": "execute_result"
    }
   ],
   "source": [
    "# the 'results' key looks like a list of 1 element for now\n",
    "data['results'][0].keys()"
   ]
  },
  {
   "cell_type": "code",
   "execution_count": 21,
   "metadata": {},
   "outputs": [
    {
     "data": {
      "text/plain": [
       "'Main street'"
      ]
     },
     "execution_count": 21,
     "metadata": {},
     "output_type": "execute_result"
    }
   ],
   "source": [
    "# Let's target a specific value like 'Main street'\n",
    "data['results'][0]['address_components'][1]['long_name']"
   ]
  },
  {
   "cell_type": "code",
   "execution_count": 28,
   "metadata": {},
   "outputs": [
    {
     "name": "stdout",
     "output_type": "stream",
     "text": [
      "708\n",
      "Main street\n",
      "Central Business District\n",
      "Houston\n",
      "Harris County\n",
      "Texas\n",
      "United States\n",
      "77002\n"
     ]
    }
   ],
   "source": [
    "for address_component in data['results']:\n",
    "    for component in address_component['address_components']:\n",
    "        print(component['long_name'])"
   ]
  },
  {
   "cell_type": "code",
   "execution_count": 1,
   "metadata": {},
   "outputs": [],
   "source": [
    "def id_generator(dict_var):\n",
    "    for k, v in dict_var.items():\n",
    "        if k == \"id\":\n",
    "            yield v\n",
    "        elif isinstance(v, dict):\n",
    "            for id_val in id_generator(v):\n",
    "                yield id_val"
   ]
  },
  {
   "cell_type": "code",
   "execution_count": 7,
   "metadata": {},
   "outputs": [],
   "source": [
    "for tag in id_generator(data):\n",
    "    print(tag)"
   ]
  },
  {
   "cell_type": "markdown",
   "metadata": {},
   "source": [
    "## Recursion"
   ]
  },
  {
   "cell_type": "markdown",
   "metadata": {},
   "source": [
    "https://www.programmableweb.com/apis/directory\n",
    "https://github.com/toddmotto/public-apis\n",
    "https://blog.rapidapi.com/most-popular-apis/"
   ]
  },
  {
   "cell_type": "code",
   "execution_count": 59,
   "metadata": {},
   "outputs": [
    {
     "data": {
      "text/plain": [
       "720"
      ]
     },
     "execution_count": 59,
     "metadata": {},
     "output_type": "execute_result"
    }
   ],
   "source": [
    "# Iterative Factorial Solution:\n",
    "def iterative_factorial(n):\n",
    "    result = 1\n",
    "    for i in range(2,n+1):\n",
    "        result *= i\n",
    "    return result\n",
    "\n",
    "iterative_factorial(6)"
   ]
  },
  {
   "cell_type": "code",
   "execution_count": 9,
   "metadata": {},
   "outputs": [
    {
     "data": {
      "text/plain": [
       "40320"
      ]
     },
     "execution_count": 9,
     "metadata": {},
     "output_type": "execute_result"
    }
   ],
   "source": [
    "# Recursive Factorial Solution:\n",
    "def factorial(n):\n",
    "    if n == 1:\n",
    "        return 1\n",
    "    else:\n",
    "        return n * factorial(n-1)\n",
    "    \n",
    "factorial(8)"
   ]
  },
  {
   "cell_type": "code",
   "execution_count": 10,
   "metadata": {
    "scrolled": true
   },
   "outputs": [
    {
     "name": "stdout",
     "output_type": "stream",
     "text": [
      "factorial has been called with n = 8\n",
      "factorial has been called with n = 7\n",
      "factorial has been called with n = 6\n",
      "factorial has been called with n = 5\n",
      "factorial has been called with n = 4\n",
      "factorial has been called with n = 3\n",
      "factorial has been called with n = 2\n",
      "intermediate result for 2 * factorial( 1 ): 2\n",
      "intermediate result for 3 * factorial( 2 ): 6\n",
      "intermediate result for 4 * factorial( 3 ): 24\n",
      "intermediate result for 5 * factorial( 4 ): 120\n",
      "intermediate result for 6 * factorial( 5 ): 720\n",
      "intermediate result for 7 * factorial( 6 ): 5040\n",
      "intermediate result for 8 * factorial( 7 ): 40320\n",
      "40320\n"
     ]
    }
   ],
   "source": [
    "def factorial(n):\n",
    "    if n == 1:\n",
    "        return 1\n",
    "    else:\n",
    "        print(\"factorial has been called with n = \" + str(n))\n",
    "        result = n * factorial(n-1)\n",
    "        print(\"intermediate result for\", n, \"* factorial(\", n-1, \"):\", result)\n",
    "        return result\n",
    "\n",
    "print(factorial(8))"
   ]
  },
  {
   "cell_type": "markdown",
   "metadata": {},
   "source": [
    "https://www.programmableweb.com/apis/directory\n",
    "https://github.com/toddmotto/public-apis\n",
    "https://blog.rapidapi.com/most-popular-apis/"
   ]
  }
 ],
 "metadata": {
  "kernelspec": {
   "display_name": "Python 3",
   "language": "python",
   "name": "python3"
  },
  "language_info": {
   "codemirror_mode": {
    "name": "ipython",
    "version": 3
   },
   "file_extension": ".py",
   "mimetype": "text/x-python",
   "name": "python",
   "nbconvert_exporter": "python",
   "pygments_lexer": "ipython3",
   "version": "3.6.5"
  }
 },
 "nbformat": 4,
 "nbformat_minor": 2
}
